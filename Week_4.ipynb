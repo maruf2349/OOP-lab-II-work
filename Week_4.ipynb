{
  "nbformat": 4,
  "nbformat_minor": 0,
  "metadata": {
    "colab": {
      "name": "Copy of Lab Session 4.ipynb",
      "provenance": [],
      "include_colab_link": true
    },
    "kernelspec": {
      "name": "python3",
      "display_name": "Python 3"
    }
  },
  "cells": [
    {
      "cell_type": "markdown",
      "metadata": {
        "id": "view-in-github",
        "colab_type": "text"
      },
      "source": [
        "<a href=\"https://colab.research.google.com/github/maruf2349/OOP-lab-II-work/blob/master/Week_4.ipynb\" target=\"_parent\"><img src=\"https://colab.research.google.com/assets/colab-badge.svg\" alt=\"Open In Colab\"/></a>"
      ]
    },
    {
      "cell_type": "code",
      "metadata": {
        "id": "dv5fgiINPQhy",
        "outputId": "5bb76bda-c888-4524-bffe-081de46d5bd2",
        "colab": {
          "base_uri": "https://localhost:8080/"
        }
      },
      "source": [
        "#creating list\n",
        "lst0=[191,15,2349,\"PC-C\",\"FAZLEY ATIF MARUF\",[1,2,3,4,5,]]\n",
        "lst2=[1,4,5,6,7]\n",
        "lst1=[242345,423534,4325,\"CSE\"]\n",
        "\n",
        "print(lst0)\n",
        "\n",
        "print(lst1)\n",
        "\n",
        "print(lst2)"
      ],
      "execution_count": 30,
      "outputs": [
        {
          "output_type": "stream",
          "text": [
            "[191, 15, 2349, 'PC-C', 'FAZLEY ATIF MARUF', [1, 2, 3, 4, 5]]\n",
            "[242345, 423534, 4325, 'CSE']\n",
            "[1, 4, 5, 6, 7]\n"
          ],
          "name": "stdout"
        }
      ]
    },
    {
      "cell_type": "code",
      "metadata": {
        "id": "OzhLaNmjPibF",
        "outputId": "7c6f9513-5a38-4eae-9f81-f42dcb39d2fe",
        "colab": {
          "base_uri": "https://localhost:8080/"
        }
      },
      "source": [
        "#iterating list\n",
        "\n",
        "lst0=[191,15,2349,\"PC-C\",\"FAZLEY ATIF MARUF\",[1,2,3,4,5,]]\n",
        "lst1=[242345,423534,4325,\"CSE\"]\n",
        "lst2=[1,4,5,6,7]\n",
        "\n",
        "\n",
        "for i in lst0:\n",
        "    print(i,end=' ')\n",
        "print('')\n",
        "for i in lst1:\n",
        "    print(i,end=' ')\n",
        "print('')\n",
        "for i in lst2:\n",
        "    print(i,end=' ')\n",
        "print('')"
      ],
      "execution_count": 31,
      "outputs": [
        {
          "output_type": "stream",
          "text": [
            "191 15 2349 PC-C FAZLEY ATIF MARUF [1, 2, 3, 4, 5] \n",
            "242345 423534 4325 CSE \n",
            "1 4 5 6 7 \n"
          ],
          "name": "stdout"
        }
      ]
    },
    {
      "cell_type": "code",
      "metadata": {
        "id": "KNxT03XVQl1s",
        "outputId": "05818953-c358-43a8-f820-553b6773f67f",
        "colab": {
          "base_uri": "https://localhost:8080/"
        }
      },
      "source": [
        "#iterating list\n",
        "\n",
        "lst0=[191,15,2349,\"PC-C\",\"FAZLEY ATIF MARUF\",[1,2,3,4,5,]]\n",
        "print(lst0[2])\n",
        "print(lst0[3])\n",
        "print(lst0[4])\n"
      ],
      "execution_count": 34,
      "outputs": [
        {
          "output_type": "stream",
          "text": [
            "2349\n",
            "PC-C\n",
            "FAZLEY ATIF MARUF\n"
          ],
          "name": "stdout"
        }
      ]
    },
    {
      "cell_type": "code",
      "metadata": {
        "id": "068-O8s6RPqT",
        "outputId": "05d58026-fb6d-44c9-b384-3ef369fdd84d",
        "colab": {
          "base_uri": "https://localhost:8080/"
        }
      },
      "source": [
        "#List operations\n",
        "\n",
        "lst0=[1,2,3,32,2.23,43.23,\"python\",[2,32,3]]\n",
        "\n",
        "print(len(lst0))                #len( ) gives the length of the list\n",
        "\n",
        "lst0.append([12,2,12,2])        #append( ) inserts an element to the end of the list\n",
        "print(lst0)\n",
        "\n",
        "lst0.insert(2,\"pandas\")         #insert( ) insertes an element on a given index\n",
        "print(lst0)\n",
        "\n",
        "lst0.remove(3)                  #remove( ) removes first occurence of an element\n",
        "print(lst0)\n",
        "\n",
        "print(lst0.index(\"python\"))     #index( ) returns index of first occurence of an element\n",
        "\n",
        "print(lst0.count('pandas'))     #count( ) reuturns the number of occurence of an element\n",
        "\n",
        "print(lst0.reverse())           #reverse( ) makes a reverse list\n",
        "\n",
        "lst1=lst0.copy()                #copy( ) makes a copy of list\n",
        "print(lst1)\n",
        "\n",
        "lst0.clear()                    #clear( ) makes the list empty\n",
        "print(lst0)"
      ],
      "execution_count": 36,
      "outputs": [
        {
          "output_type": "stream",
          "text": [
            "8\n",
            "[1, 2, 3, 32, 2.23, 43.23, 'python', [2, 32, 3], [12, 2, 12, 2]]\n",
            "[1, 2, 'pandas', 3, 32, 2.23, 43.23, 'python', [2, 32, 3], [12, 2, 12, 2]]\n",
            "[1, 2, 'pandas', 32, 2.23, 43.23, 'python', [2, 32, 3], [12, 2, 12, 2]]\n",
            "6\n",
            "1\n",
            "None\n",
            "[[12, 2, 12, 2], [2, 32, 3], 'python', 43.23, 2.23, 32, 'pandas', 2, 1]\n",
            "[]\n"
          ],
          "name": "stdout"
        }
      ]
    },
    {
      "cell_type": "code",
      "metadata": {
        "id": "Efc_Q8FCU1RZ",
        "outputId": "c916c499-e2c6-4567-f523-de47db3ff662",
        "colab": {
          "base_uri": "https://localhost:8080/"
        }
      },
      "source": [
        "#lsit slicing\n",
        "\n",
        "lst0=[191,15,2349,\"PC-C\",\"FAZLEY ATIF MARUF\",[1,2,3,4,5,]]\n",
        "\n",
        "print(lst0[2:7])\n",
        "print(lst0[2:])\n",
        "print(lst0[:5])\n",
        "print(lst0[:])"
      ],
      "execution_count": 37,
      "outputs": [
        {
          "output_type": "stream",
          "text": [
            "[2349, 'PC-C', 'FAZLEY ATIF MARUF', [1, 2, 3, 4, 5]]\n",
            "[2349, 'PC-C', 'FAZLEY ATIF MARUF', [1, 2, 3, 4, 5]]\n",
            "[191, 15, 2349, 'PC-C', 'FAZLEY ATIF MARUF']\n",
            "[191, 15, 2349, 'PC-C', 'FAZLEY ATIF MARUF', [1, 2, 3, 4, 5]]\n"
          ],
          "name": "stdout"
        }
      ]
    },
    {
      "cell_type": "code",
      "metadata": {
        "id": "VcznBtQPWFD1",
        "outputId": "05340749-4334-4d23-ca83-0dad7f7eac0a",
        "colab": {
          "base_uri": "https://localhost:8080/"
        }
      },
      "source": [
        "#list sorting\n",
        "\n",
        "lst0=[191,15,2349,\"PC-C\",\"FAZLEY ATIF MARUF\",[1,2,3,4,5,]]\n",
        "\n",
        "lst3=sorted(lst2)\n",
        "print(lst3)\n",
        "print(lst2)\n",
        "lst2.sort()\n",
        "print(lst2)"
      ],
      "execution_count": 38,
      "outputs": [
        {
          "output_type": "stream",
          "text": [
            "[1, 4, 5, 6, 7]\n",
            "[1, 4, 5, 6, 7]\n",
            "[1, 4, 5, 6, 7]\n"
          ],
          "name": "stdout"
        }
      ]
    },
    {
      "cell_type": "code",
      "metadata": {
        "id": "CsnsqMPsWn6m",
        "outputId": "3ae3e8aa-0b65-4d59-a151-4b8a7d351709",
        "colab": {
          "base_uri": "https://localhost:8080/"
        }
      },
      "source": [
        "#creating tuple\n",
        "\n",
        "MAR0=[191,15,2349,\"PC-C\",\"FAZLEY ATIF MARUF\",[1,2,3,4,5,]]\n",
        "print(MAR0)\n",
        "MAR1=()\n",
        "print(MAR1)\n",
        "MAR2=tuple()\n",
        "print(MAR2)"
      ],
      "execution_count": 43,
      "outputs": [
        {
          "output_type": "stream",
          "text": [
            "[191, 15, 2349, 'PC-C', 'FAZLEY ATIF MARUF', [1, 2, 3, 4, 5]]\n",
            "()\n",
            "()\n"
          ],
          "name": "stdout"
        }
      ]
    },
    {
      "cell_type": "code",
      "metadata": {
        "id": "zqLQKHBrXNxY",
        "outputId": "012551ff-f576-4f20-a0f9-6cad6530c921",
        "colab": {
          "base_uri": "https://localhost:8080/"
        }
      },
      "source": [
        "#iterating tuple\n",
        "\n",
        "MAR0=[191,15,2349,\"PC-C\",\"FAZLEY ATIF MARUF\",[1,2,3,4,5,]]\n",
        "for i in MAR0:\n",
        "    print(i,end=' ')\n",
        "print('')"
      ],
      "execution_count": 44,
      "outputs": [
        {
          "output_type": "stream",
          "text": [
            "191 15 2349 PC-C FAZLEY ATIF MARUF [1, 2, 3, 4, 5] \n"
          ],
          "name": "stdout"
        }
      ]
    },
    {
      "cell_type": "code",
      "metadata": {
        "id": "KZUEXf9KXyFq",
        "outputId": "abbd28ed-48f8-4564-ea69-e9c178fd0594",
        "colab": {
          "base_uri": "https://localhost:8080/"
        }
      },
      "source": [
        "#iterating tuple\n",
        "\n",
        "MAR0=[191,15,2349,\"PC-C\",\"FAZLEY ATIF MARUF\",[1,2,3,4,5,]]\n",
        "\n",
        "print(MAR0[0])\n",
        "print(MAR0[1])\n",
        "print(MAR0[2])\n",
        "print(MAR0[3])\n"
      ],
      "execution_count": 51,
      "outputs": [
        {
          "output_type": "stream",
          "text": [
            "191\n",
            "15\n",
            "2349\n",
            "PC-C\n"
          ],
          "name": "stdout"
        }
      ]
    },
    {
      "cell_type": "code",
      "metadata": {
        "id": "J0R9_6tYYU6j",
        "outputId": "0a64af3c-5d27-4f47-9ceb-89834af747f0",
        "colab": {
          "base_uri": "https://localhost:8080/"
        }
      },
      "source": [
        "#inserting into tuple\n",
        "\n",
        "tp0=[191,15,2349,\"PC-C\",\"FAZLEY ATIF MARUF\",[1,2,3,4,5,]]\n",
        "tp0+=(\"pandas\",232,3,232,3)\n",
        "print(tp0)"
      ],
      "execution_count": 52,
      "outputs": [
        {
          "output_type": "stream",
          "text": [
            "[191, 15, 2349, 'PC-C', 'FAZLEY ATIF MARUF', [1, 2, 3, 4, 5], 'pandas', 232, 3, 232, 3]\n"
          ],
          "name": "stdout"
        }
      ]
    },
    {
      "cell_type": "code",
      "metadata": {
        "id": "ZWp59vSEZfJJ",
        "outputId": "c69a41c2-3154-47c7-9099-376f48582b15",
        "colab": {
          "base_uri": "https://localhost:8080/"
        }
      },
      "source": [
        "#unpacking sequences\n",
        "\n",
        "MARUF=(191, 15, 2349, 'PC-C')\n",
        "a,b,c,d=MARUF\n",
        "print(a)\n",
        "print(b)\n",
        "print(c)\n",
        "print(d)"
      ],
      "execution_count": 56,
      "outputs": [
        {
          "output_type": "stream",
          "text": [
            "191\n",
            "15\n",
            "2349\n",
            "PC-C\n"
          ],
          "name": "stdout"
        }
      ]
    },
    {
      "cell_type": "code",
      "metadata": {
        "id": "o-2Xal8TZ1mo",
        "outputId": "2201abea-3311-4664-99a5-8289ea0f0735",
        "colab": {
          "base_uri": "https://localhost:8080/"
        }
      },
      "source": [
        "#unpacking sequences\n",
        "\n",
        "MARUF=(191, 15, 2349, 'PC-C')\n",
        "a,b,c,d=MARUF\n",
        "print(a)\n",
        "print(b)\n",
        "print(c)\n",
        "print(d)"
      ],
      "execution_count": 57,
      "outputs": [
        {
          "output_type": "stream",
          "text": [
            "191\n",
            "15\n",
            "2349\n",
            "PC-C\n"
          ],
          "name": "stdout"
        }
      ]
    }
  ]
}